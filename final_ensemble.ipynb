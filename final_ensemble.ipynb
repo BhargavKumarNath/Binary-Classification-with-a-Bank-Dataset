{
 "cells": [
  {
   "cell_type": "code",
   "execution_count": 1,
   "id": "edd04376",
   "metadata": {},
   "outputs": [],
   "source": [
    "import pandas as pd"
   ]
  },
  {
   "cell_type": "code",
   "execution_count": 2,
   "id": "6e64d109",
   "metadata": {},
   "outputs": [
    {
     "name": "stdout",
     "output_type": "stream",
     "text": [
      "Loading submission files for the final ensemble\n"
     ]
    }
   ],
   "source": [
    "SUBMISSION_PATH_LGBM = \"dataset/submission_lgbm.csv\"\n",
    "SUBMISSION_PATH_XGB_TUNED = \"dataset/submission_xgboost_tuned.csv\"\n",
    "ENSEMBLE_SUB_PATH = \"dataset/submission_final_ensemble.csv\"\n",
    "\n",
    "print(\"Loading submission files for the final ensemble\")\n",
    "df_lgbm = pd.read_csv(SUBMISSION_PATH_LGBM)\n",
    "df_xgb_tuned = pd.read_csv(SUBMISSION_PATH_XGB_TUNED)"
   ]
  },
  {
   "cell_type": "code",
   "execution_count": 3,
   "id": "4395b8fe",
   "metadata": {},
   "outputs": [
    {
     "name": "stdout",
     "output_type": "stream",
     "text": [
      "Creating weighted average ensemble\n"
     ]
    }
   ],
   "source": [
    "print(\"Creating weighted average ensemble\")\n",
    "weight_xgb = 0.70\n",
    "weight_lgbm = 0.30\n",
    "\n",
    "if not df_lgbm['id'].equals(df_xgb_tuned['id']):\n",
    "    raise ValueError(\"Submission IDs do not match! Check the files.\")\n"
   ]
  },
  {
   "cell_type": "code",
   "execution_count": 4,
   "id": "15cd17f8",
   "metadata": {},
   "outputs": [],
   "source": [
    "df_final_ensemble = pd.DataFrame()\n",
    "df_final_ensemble['id'] = df_lgbm['id']\n",
    "df_final_ensemble['y'] = (weight_lgbm * df_lgbm['y']) + (weight_xgb * df_xgb_tuned['y'])"
   ]
  },
  {
   "cell_type": "code",
   "execution_count": 5,
   "id": "f29792e8",
   "metadata": {},
   "outputs": [
    {
     "name": "stdout",
     "output_type": "stream",
     "text": [
      "Final ensemble submission saved to dataset/submission_final_ensemble.csv\n",
      "\n",
      "Final submission preview:\n",
      "       id         y\n",
      "0  750000  0.008782\n",
      "1  750001  0.194616\n",
      "2  750002  0.001271\n",
      "3  750003  0.000376\n",
      "4  750004  0.057753\n",
      "\n",
      "Final prediction statistics:\n",
      "count    250000.000000\n",
      "mean          0.152293\n",
      "std           0.268739\n",
      "min           0.000061\n",
      "25%           0.001324\n",
      "50%           0.005805\n",
      "75%           0.174371\n",
      "max           0.998551\n",
      "Name: y, dtype: float64\n"
     ]
    }
   ],
   "source": [
    "df_final_ensemble.to_csv(ENSEMBLE_SUB_PATH, index=False)\n",
    "print(f\"Final ensemble submission saved to {ENSEMBLE_SUB_PATH}\")\n",
    "print(\"\\nFinal submission preview:\")\n",
    "print(df_final_ensemble.head())\n",
    "\n",
    "# --- Final Prediction Statistics ---\n",
    "print(\"\\nFinal prediction statistics:\")\n",
    "print(df_final_ensemble['y'].describe())"
   ]
  },
  {
   "cell_type": "code",
   "execution_count": null,
   "id": "2da2b08d",
   "metadata": {},
   "outputs": [],
   "source": []
  }
 ],
 "metadata": {
  "kernelspec": {
   "display_name": "base",
   "language": "python",
   "name": "python3"
  },
  "language_info": {
   "codemirror_mode": {
    "name": "ipython",
    "version": 3
   },
   "file_extension": ".py",
   "mimetype": "text/x-python",
   "name": "python",
   "nbconvert_exporter": "python",
   "pygments_lexer": "ipython3",
   "version": "3.12.3"
  }
 },
 "nbformat": 4,
 "nbformat_minor": 5
}
