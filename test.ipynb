{
 "cells": [
  {
   "cell_type": "code",
   "execution_count": 3,
   "id": "ca4919ec",
   "metadata": {},
   "outputs": [
    {
     "name": "stdout",
     "output_type": "stream",
     "text": [
      "CSV summary saved to my_submission_xgboost.txt\n"
     ]
    }
   ],
   "source": [
    "import pandas as pd\n",
    "\n",
    "# Replace with your CSV file path\n",
    "file_path = \"dataset/submission_xgboost.csv\"\n",
    "output_file = \"my_submission_xgboost.txt\"\n",
    "\n",
    "# Load CSV\n",
    "df = pd.read_csv(file_path)\n",
    "\n",
    "# Open a file to write the summary\n",
    "with open(output_file, \"w\") as f:\n",
    "    f.write(\"=== CSV Summary ===\\n\\n\")\n",
    "    f.write(f\"Number of rows: {df.shape[0]}\\n\")\n",
    "    f.write(f\"Number of columns: {df.shape[1]}\\n\\n\")\n",
    "    \n",
    "    f.write(\"Columns and data types:\\n\")\n",
    "    f.write(str(df.dtypes) + \"\\n\\n\")\n",
    "    \n",
    "    f.write(\"Missing values per column:\\n\")\n",
    "    f.write(str(df.isnull().sum()) + \"\\n\\n\")\n",
    "    \n",
    "    f.write(\"Summary statistics for numeric columns:\\n\")\n",
    "    f.write(str(df.describe()) + \"\\n\\n\")\n",
    "    \n",
    "    f.write(\"First 5 rows:\\n\")\n",
    "    f.write(str(df.head()) + \"\\n\")\n",
    "\n",
    "print(f\"CSV summary saved to {output_file}\")\n"
   ]
  },
  {
   "cell_type": "code",
   "execution_count": null,
   "id": "babcd3de",
   "metadata": {},
   "outputs": [],
   "source": []
  }
 ],
 "metadata": {
  "kernelspec": {
   "display_name": "base",
   "language": "python",
   "name": "python3"
  },
  "language_info": {
   "codemirror_mode": {
    "name": "ipython",
    "version": 3
   },
   "file_extension": ".py",
   "mimetype": "text/x-python",
   "name": "python",
   "nbconvert_exporter": "python",
   "pygments_lexer": "ipython3",
   "version": "3.12.3"
  }
 },
 "nbformat": 4,
 "nbformat_minor": 5
}
